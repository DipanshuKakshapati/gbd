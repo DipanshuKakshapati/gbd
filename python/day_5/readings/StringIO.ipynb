{
 "cells": [
  {
   "cell_type": "code",
   "execution_count": null,
   "metadata": {},
   "outputs": [],
   "source": [
    "import io\n",
    "\n",
    "# initializing StringIO object with a string\n",
    "data = \"Initial text\"\n",
    "s = io.StringIO(data)\n",
    "\n",
    "# writing more data to it\n",
    "s.write(\" and more text.\")\n",
    "\n",
    "# seeking to the beginning of the StringIO object\n",
    "s.seek(0)\n",
    "\n",
    "# reading the content\n",
    "print(s.read())  # Output: Initial text and more text.\n",
    "\n",
    "# close the StringIO object\n",
    "s.close()"
   ]
  }
 ],
 "metadata": {
  "kernelspec": {
   "display_name": "base",
   "language": "python",
   "name": "python3"
  },
  "language_info": {
   "name": "python",
   "version": "3.11.5 (main, Sep 11 2023, 08:31:25) [Clang 14.0.6 ]"
  },
  "orig_nbformat": 4,
  "vscode": {
   "interpreter": {
    "hash": "4ec40f2292a0393c0e0f64ebf1844f83e920056e0c69f650bc8a9950d205821e"
   }
  }
 },
 "nbformat": 4,
 "nbformat_minor": 2
}
