{
 "cells": [
  {
   "cell_type": "code",
   "execution_count": 2,
   "metadata": {},
   "outputs": [
    {
     "name": "stdout",
     "output_type": "stream",
     "text": [
      "First Line: Hello, world!\n",
      "Second Line: This is another line of text.\n",
      "Current Cursor Position: 44\n",
      "Remaining Data: Hello, world!\n",
      "This is another line of text.\n"
     ]
    }
   ],
   "source": [
    "import io\n",
    "\n",
    "# creating a new StringIO object\n",
    "memory_file = io.StringIO()\n",
    "\n",
    "# writing data to the StringIO object\n",
    "memory_file.write(\"Hello, world!\\n\")\n",
    "memory_file.write(\"This is another line of text.\\n\")\n",
    "\n",
    "# moving the cursor back to the beginning of the \"file\"\n",
    "memory_file.seek(0)\n",
    "\n",
    "# reading the first line of data\n",
    "first_line = memory_file.readline()\n",
    "print(\"First Line:\", first_line.strip())\n",
    "\n",
    "# reading the next line of data\n",
    "second_line = memory_file.readline()\n",
    "print(\"Second Line:\", second_line.strip())\n",
    "\n",
    "# checking the current position of the cursor\n",
    "current_position = memory_file.tell()\n",
    "print(\"Current Cursor Position:\", current_position)\n",
    "\n",
    "# reading from the current position to the end of the \"file\"\n",
    "remaining_data = memory_file.read()\n",
    "print(\"Remaining Data:\", remaining_data.strip())\n",
    "\n",
    "# closing the StringIO object when done\n",
    "memory_file.close()"
   ]
  }
 ],
 "metadata": {
  "kernelspec": {
   "display_name": "base",
   "language": "python",
   "name": "python3"
  },
  "language_info": {
   "codemirror_mode": {
    "name": "ipython",
    "version": 3
   },
   "file_extension": ".py",
   "mimetype": "text/x-python",
   "name": "python",
   "nbconvert_exporter": "python",
   "pygments_lexer": "ipython3",
   "version": "3.11.5 (main, Sep 11 2023, 08:31:25) [Clang 14.0.6 ]"
  },
  "orig_nbformat": 4,
  "vscode": {
   "interpreter": {
    "hash": "4ec40f2292a0393c0e0f64ebf1844f83e920056e0c69f650bc8a9950d205821e"
   }
  }
 },
 "nbformat": 4,
 "nbformat_minor": 2
}
